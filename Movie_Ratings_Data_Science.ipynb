{
 "cells": [
  {
   "cell_type": "code",
   "execution_count": 2,
   "metadata": {},
   "outputs": [
    {
     "name": "stdout",
     "output_type": "stream",
     "text": [
      "File 'ratings.csv' telah berhasil dibuat.\n",
      "\n",
      "       user_id  movie_id  rating  timestamp\n",
      "0          196       242       3  881250949\n",
      "1          186       302       3  891717742\n",
      "2           22       377       1  878887116\n",
      "3          244        51       2  880606923\n",
      "4          166       346       1  886397596\n",
      "...        ...       ...     ...        ...\n",
      "99995      880       476       3  880175444\n",
      "99996      716       204       5  879795543\n",
      "99997      276      1090       1  874795795\n",
      "99998       13       225       2  882399156\n",
      "99999       12       203       3  879959583\n",
      "\n",
      "[100000 rows x 4 columns]\n"
     ]
    }
   ],
   "source": [
    "import pandas as pd\n",
    "# Memuat file 'u.data'\n",
    "columns = ['user_id', 'movie_id', 'rating', 'timestamp']\n",
    "ratings = pd.read_csv('u.data', \n",
    "                      sep='\\t', \n",
    "                      names=columns)\n",
    "\n",
    "# Menyimpan ratings ke CSV\n",
    "ratings.to_csv('ratings.csv', index=False)\n",
    "print(\"File 'ratings.csv' telah berhasil dibuat.\")\n",
    "print()\n",
    "\n",
    "print(ratings)\n",
    "\n"
   ]
  },
  {
   "cell_type": "code",
   "execution_count": 3,
   "metadata": {},
   "outputs": [
    {
     "name": "stdout",
     "output_type": "stream",
     "text": [
      "File 'movie_titles.csv' telah berhasil dibuat.\n",
      "\n",
      "      movie_id                                      title\n",
      "0            1                           Toy Story (1995)\n",
      "1            2                           GoldenEye (1995)\n",
      "2            3                          Four Rooms (1995)\n",
      "3            4                          Get Shorty (1995)\n",
      "4            5                             Copycat (1995)\n",
      "...        ...                                        ...\n",
      "1677      1678                          Mat' i syn (1997)\n",
      "1678      1679                           B. Monkey (1998)\n",
      "1679      1680                       Sliding Doors (1998)\n",
      "1680      1681                        You So Crazy (1994)\n",
      "1681      1682  Scream of Stone (Schrei aus Stein) (1991)\n",
      "\n",
      "[1682 rows x 2 columns]\n"
     ]
    }
   ],
   "source": [
    "# Memuat file 'u.item'\n",
    "movie_titles = pd.read_csv('u.item',\n",
    "                        sep='|', \n",
    "                        encoding='ISO-8859-1', \n",
    "                        header=None, \n",
    "                        usecols=[0, 1], \n",
    "                        names=['movie_id', 'title']) \n",
    "\n",
    "# Menyimpan movie_titles ke CSV\n",
    "movie_titles.to_csv('movie_titles.csv', index=False)\n",
    "print(\"File 'movie_titles.csv' telah berhasil dibuat.\")\n",
    "print()\n",
    "\n",
    "print(movie_titles)"
   ]
  },
  {
   "cell_type": "code",
   "execution_count": 4,
   "metadata": {},
   "outputs": [
    {
     "name": "stdout",
     "output_type": "stream",
     "text": [
      "Jumlah total rating dalam dataset: 100000\n"
     ]
    }
   ],
   "source": [
    "# 1. menghitung total rating di datasets\n",
    "jumlah_total_rating = ratings['rating'].count()\n",
    "print(f\"Jumlah total rating dalam dataset: {jumlah_total_rating}\")"
   ]
  },
  {
   "cell_type": "code",
   "execution_count": 5,
   "metadata": {},
   "outputs": [
    {
     "name": "stdout",
     "output_type": "stream",
     "text": [
      "Banyak film dengan rating 5: 1172\n"
     ]
    }
   ],
   "source": [
    "# 2.film yang memiliki rating 5\n",
    "jumlah_film_rating_5 = ratings[ratings['rating'] == 5]['movie_id'].nunique()\n",
    "print(f\"Banyak film dengan rating 5: {jumlah_film_rating_5}\")"
   ]
  },
  {
   "cell_type": "code",
   "execution_count": 6,
   "metadata": {},
   "outputs": [
    {
     "name": "stdout",
     "output_type": "stream",
     "text": [
      "Rata-rata rating oleh semua pengguna: 3.53\n"
     ]
    }
   ],
   "source": [
    "# 3. rata-rata rating yang diberikan pengguna\n",
    "rata_rata_rating = ratings['rating'].mean()\n",
    "print(f\"Rata-rata rating oleh semua pengguna: {rata_rata_rating:.2f}\")"
   ]
  },
  {
   "cell_type": "code",
   "execution_count": 7,
   "metadata": {},
   "outputs": [
    {
     "name": "stdout",
     "output_type": "stream",
     "text": [
      "Banyak pengguna yang memberikan rating lebih dari atau sama dengan 4: 942\n"
     ]
    }
   ],
   "source": [
    "# 4. menghitung pengguna yang memberikan rating lebih dari atau sama dengan 4\n",
    "pengguna_rating_4_keatas = ratings[ratings['rating'] >= 4]['user_id'].nunique()\n",
    "print(f\"Banyak pengguna yang memberikan rating lebih dari atau sama dengan 4: {pengguna_rating_4_keatas}\")"
   ]
  },
  {
   "cell_type": "code",
   "execution_count": 8,
   "metadata": {},
   "outputs": [
    {
     "name": "stdout",
     "output_type": "stream",
     "text": [
      "Film dengan id 50 memiliki total 583 rating dan rata-rata rating 4.36\n"
     ]
    }
   ],
   "source": [
    "# 5. menghitung rating dengan id 50 dan menghitung rata-ratanya\n",
    "#membuat variable ratings_item_50 untuk nantinya digunakan untuk menentukan jumlah rating dengan item_id 50\n",
    "rating_film_50 = ratings.loc[ratings['movie_id'] == 50]\n",
    "#menghitung rating dengan item_id 50\n",
    "total_rating_film_50 = rating_film_50['rating'].count()\n",
    "#menghitung rata-rata rating dengan item_id 50\n",
    "rata_rata_rating_film_50 = rating_film_50['rating'].mean()\n",
    "\n",
    "print(f\"Film dengan id 50 memiliki total {total_rating_film_50} rating dan rata-rata rating {rata_rata_rating_film_50:.2f}\")"
   ]
  },
  {
   "cell_type": "code",
   "execution_count": 9,
   "metadata": {},
   "outputs": [
    {
     "name": "stdout",
     "output_type": "stream",
     "text": [
      "Judul film dengan id 50: Star Wars (1977)\n"
     ]
    }
   ],
   "source": [
    "# 6. melihat judul film dengan id film 50\n",
    "judul_film_50 = movie_titles[movie_titles['movie_id'] == 50]['title'].values[0]\n",
    "print(f\"Judul film dengan id 50: {judul_film_50}\")"
   ]
  },
  {
   "cell_type": "code",
   "execution_count": 10,
   "metadata": {},
   "outputs": [
    {
     "name": "stdout",
     "output_type": "stream",
     "text": [
      "film dengan ratting terbanyak adalah dengan id 50\n",
      "\n",
      "banyaknya rating untuk id film dengan id 50 : 583\n",
      "\n",
      "Film paling banyak di-rating adalah film dengan id 50 dengan total rating 583\n"
     ]
    }
   ],
   "source": [
    "#7.\n",
    "#  membuat variable film_terbanyak_dinilai untuk menentukan film dengan ratting terbanyak\n",
    "film_terbanyak_dinilai = ratings['movie_id'].value_counts().idxmax()\n",
    "print(f\"film dengan ratting terbanyak adalah dengan id {film_terbanyak_dinilai}\")\n",
    "print()\n",
    "\n",
    "#membuat variable jumlah_rating_terbanyak untuk menghitung banyaknya rating dengan id 50\n",
    "jumlah_rating_terbanyak = ratings['movie_id'].value_counts().max()\n",
    "print(f\"banyaknya rating untuk id film dengan id 50 : {jumlah_rating_terbanyak}\")\n",
    "print()\n",
    "\n",
    "print(f\"Film paling banyak di-rating adalah film dengan id {film_terbanyak_dinilai} dengan total rating {jumlah_rating_terbanyak}\")"
   ]
  },
  {
   "cell_type": "code",
   "execution_count": 11,
   "metadata": {},
   "outputs": [
    {
     "name": "stdout",
     "output_type": "stream",
     "text": [
      "Film dengan rata-rata rating tertinggi (minimal menerima 50 rating): 408\n",
      "Rata-rata rating tertinggi: 4.49\n"
     ]
    }
   ],
   "source": [
    "# 8.\n",
    "# Menghitung rata-rata rating dan jumlah rating untuk setiap film\n",
    "rata_rating_per_film = ratings.groupby('movie_id')['rating'].agg(['mean', 'count'])\n",
    "\n",
    "#Menentukan ID film dengan rata-rata rating tertinggi (minimal menerima 50 rating)\n",
    "id_film_terbaik = rata_rating_per_film.loc[rata_rating_per_film['count'] >= 50, 'mean'].idxmax()\n",
    "\n",
    "rata_rating_tertinggi = rata_rating_per_film.loc[id_film_terbaik, 'mean']\n",
    "\n",
    "#Menampilkan rata-rata rating tertinggi dengan spesifikasi (minimal menerima 50 rating)\n",
    "print(f\"Film dengan rata-rata rating tertinggi (minimal menerima 50 rating): {id_film_terbaik}\")\n",
    "print(f\"Rata-rata rating tertinggi: {rata_rating_tertinggi:.2f}\")\n",
    "\n"
   ]
  }
 ],
 "metadata": {
  "kernelspec": {
   "display_name": "Python 3",
   "language": "python",
   "name": "python3"
  },
  "language_info": {
   "codemirror_mode": {
    "name": "ipython",
    "version": 3
   },
   "file_extension": ".py",
   "mimetype": "text/x-python",
   "name": "python",
   "nbconvert_exporter": "python",
   "pygments_lexer": "ipython3",
   "version": "3.12.3"
  }
 },
 "nbformat": 4,
 "nbformat_minor": 2
}
